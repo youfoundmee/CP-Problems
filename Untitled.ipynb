{
 "cells": [
  {
   "cell_type": "code",
   "execution_count": 1,
   "id": "1669ec22-a956-4a8f-adea-7baefac58433",
   "metadata": {},
   "outputs": [
    {
     "name": "stdout",
     "output_type": "stream",
     "text": [
      "The largest number is: 99\n"
     ]
    }
   ],
   "source": [
    "def find_largest_number(numbers):\n",
    "    if not numbers:  # Check if the list is empty\n",
    "        return None\n",
    "    return max(numbers)\n",
    "\n",
    "# Example usage\n",
    "numbers = [10, 25, 99, 54, 78]\n",
    "largest = find_largest_number(numbers)\n",
    "print(\"The largest number is:\", largest)\n"
   ]
  },
  {
   "cell_type": "code",
   "execution_count": null,
   "id": "af02b22f-260d-4743-9c2b-475400114968",
   "metadata": {},
   "outputs": [],
   "source": []
  }
 ],
 "metadata": {
  "kernelspec": {
   "display_name": "Python 3 (ipykernel)",
   "language": "python",
   "name": "python3"
  },
  "language_info": {
   "codemirror_mode": {
    "name": "ipython",
    "version": 3
   },
   "file_extension": ".py",
   "mimetype": "text/x-python",
   "name": "python",
   "nbconvert_exporter": "python",
   "pygments_lexer": "ipython3",
   "version": "3.12.4"
  }
 },
 "nbformat": 4,
 "nbformat_minor": 5
}
